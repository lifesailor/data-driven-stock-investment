{
 "cells": [
  {
   "cell_type": "code",
   "execution_count": 2,
   "metadata": {},
   "outputs": [],
   "source": [
    "import numpy as np\n",
    "import pandas as pd\n",
    "from matplotlib import pyplot as plt\n",
    "%matplotlib inline\n",
    "\n",
    "# 1. Import Test\n",
    "from pykrx import Krx\n",
    "krx = Krx()"
   ]
  },
  {
   "cell_type": "markdown",
   "metadata": {},
   "source": [
    "## 1. KC 코트렐"
   ]
  },
  {
   "cell_type": "code",
   "execution_count": 3,
   "metadata": {},
   "outputs": [],
   "source": [
    "df = krx.get_market_ohlcv(\"20140101\", \"20190301\", \"119650\")"
   ]
  },
  {
   "cell_type": "code",
   "execution_count": 5,
   "metadata": {},
   "outputs": [],
   "source": [
    "df['고가시가차이'] = df['고가'] - df['시가']\n",
    "df['저가시가차이'] = df['저가'] - df['시가']"
   ]
  },
  {
   "cell_type": "code",
   "execution_count": 6,
   "metadata": {},
   "outputs": [
    {
     "name": "stdout",
     "output_type": "stream",
     "text": [
      "시가가 저가인 경우:  120\n",
      "시가가 저가인 비율:  90.51383399209486\n"
     ]
    }
   ],
   "source": [
    "print(\"시가가 저가인 경우: \", np.sum(df['저가시가차이'] == 0))\n",
    "print(\"시가가 저가인 비율: \", (1 - np.sum(df['저가시가차이'] == 0) / len(df)) * 100)"
   ]
  },
  {
   "cell_type": "code",
   "execution_count": 7,
   "metadata": {
    "scrolled": false
   },
   "outputs": [
    {
     "name": "stdout",
     "output_type": "stream",
     "text": [
      "시가가 고가인 경우:  206\n",
      "시가가 고가인 비율:  83.71541501976284\n"
     ]
    }
   ],
   "source": [
    "print(\"시가가 고가인 경우: \", np.sum(df['고가시가차이'] == 0))\n",
    "print(\"시가가 고가인 비율: \", (1 - np.sum(df['고가시가차이'] == 0) / len(df)) * 100)"
   ]
  },
  {
   "cell_type": "markdown",
   "metadata": {},
   "source": [
    "## 2. 오공"
   ]
  },
  {
   "cell_type": "code",
   "execution_count": 8,
   "metadata": {},
   "outputs": [],
   "source": [
    "df = krx.get_market_ohlcv(\"20140101\", \"20190301\", \"045060\")"
   ]
  },
  {
   "cell_type": "code",
   "execution_count": 9,
   "metadata": {},
   "outputs": [],
   "source": [
    "df['고가시가차이'] = df['고가'] - df['시가']\n",
    "df['저가시가차이'] = df['저가'] - df['시가']"
   ]
  },
  {
   "cell_type": "code",
   "execution_count": 10,
   "metadata": {},
   "outputs": [
    {
     "name": "stdout",
     "output_type": "stream",
     "text": [
      "시가가 저가인 경우:  114\n",
      "시가가 저가인 비율:  90.98814229249011\n"
     ]
    }
   ],
   "source": [
    "print(\"시가가 저가인 경우: \", np.sum(df['저가시가차이'] == 0))\n",
    "print(\"시가가 저가인 비율: \", (1 - np.sum(df['저가시가차이'] == 0) / len(df)) * 100)"
   ]
  },
  {
   "cell_type": "code",
   "execution_count": 11,
   "metadata": {
    "scrolled": false
   },
   "outputs": [
    {
     "name": "stdout",
     "output_type": "stream",
     "text": [
      "시가가 고가인 경우:  113\n",
      "시가가 고가인 비율:  91.06719367588933\n"
     ]
    }
   ],
   "source": [
    "print(\"시가가 고가인 경우: \", np.sum(df['고가시가차이'] == 0))\n",
    "print(\"시가가 고가인 비율: \", (1 - np.sum(df['고가시가차이'] == 0) / len(df)) * 100)"
   ]
  },
  {
   "cell_type": "markdown",
   "metadata": {},
   "source": [
    "## 3. 위닉스"
   ]
  },
  {
   "cell_type": "code",
   "execution_count": 12,
   "metadata": {},
   "outputs": [],
   "source": [
    "df = krx.get_market_ohlcv(\"20140101\", \"20190301\", \"044340\")"
   ]
  },
  {
   "cell_type": "code",
   "execution_count": 13,
   "metadata": {},
   "outputs": [
    {
     "name": "stdout",
     "output_type": "stream",
     "text": [
      "시가가 저가인 경우:  115\n",
      "시가가 저가인 비율:  90.9090909090909\n",
      "시가가 고가인 경우:  145\n",
      "시가가 고가인 비율:  88.53754940711462\n"
     ]
    }
   ],
   "source": [
    "df['고가시가차이'] = df['고가'] - df['시가']\n",
    "df['저가시가차이'] = df['저가'] - df['시가']\n",
    "\n",
    "print(\"시가가 저가인 경우: \", np.sum(df['저가시가차이'] == 0))\n",
    "print(\"시가가 저가인 비율: \", (1 - np.sum(df['저가시가차이'] == 0) / len(df)) * 100)\n",
    "\n",
    "print(\"시가가 고가인 경우: \", np.sum(df['고가시가차이'] == 0))\n",
    "print(\"시가가 고가인 비율: \", (1 - np.sum(df['고가시가차이'] == 0) / len(df)) * 100)"
   ]
  },
  {
   "cell_type": "markdown",
   "metadata": {},
   "source": [
    "## 4. 성창오토텍"
   ]
  },
  {
   "cell_type": "code",
   "execution_count": 14,
   "metadata": {},
   "outputs": [],
   "source": [
    "df = krx.get_market_ohlcv(\"20140101\", \"20190301\", \"080470\")"
   ]
  },
  {
   "cell_type": "code",
   "execution_count": 15,
   "metadata": {},
   "outputs": [
    {
     "name": "stdout",
     "output_type": "stream",
     "text": [
      "시가가 저가인 경우:  124\n",
      "시가가 저가인 비율:  90.19762845849803\n",
      "시가가 고가인 경우:  135\n",
      "시가가 고가인 비율:  89.32806324110672\n"
     ]
    }
   ],
   "source": [
    "df['고가시가차이'] = df['고가'] - df['시가']\n",
    "df['저가시가차이'] = df['저가'] - df['시가']\n",
    "\n",
    "print(\"시가가 저가인 경우: \", np.sum(df['저가시가차이'] == 0))\n",
    "print(\"시가가 저가인 비율: \", (1 - np.sum(df['저가시가차이'] == 0) / len(df)) * 100)\n",
    "\n",
    "print(\"시가가 고가인 경우: \", np.sum(df['고가시가차이'] == 0))\n",
    "print(\"시가가 고가인 비율: \", (1 - np.sum(df['고가시가차이'] == 0) / len(df)) * 100)"
   ]
  },
  {
   "cell_type": "markdown",
   "metadata": {},
   "source": [
    "## 5. 나노"
   ]
  },
  {
   "cell_type": "code",
   "execution_count": 16,
   "metadata": {},
   "outputs": [],
   "source": [
    "df = krx.get_market_ohlcv(\"20140101\", \"20190301\", \"187790\")"
   ]
  },
  {
   "cell_type": "code",
   "execution_count": 17,
   "metadata": {},
   "outputs": [
    {
     "name": "stdout",
     "output_type": "stream",
     "text": [
      "시가가 저가인 경우:  187\n",
      "시가가 저가인 비율:  84.15254237288136\n",
      "시가가 고가인 경우:  248\n",
      "시가가 고가인 비율:  78.98305084745762\n"
     ]
    }
   ],
   "source": [
    "df['고가시가차이'] = df['고가'] - df['시가']\n",
    "df['저가시가차이'] = df['저가'] - df['시가']\n",
    "\n",
    "print(\"시가가 저가인 경우: \", np.sum(df['저가시가차이'] == 0))\n",
    "print(\"시가가 저가인 비율: \", (1 - np.sum(df['저가시가차이'] == 0) / len(df)) * 100)\n",
    "\n",
    "print(\"시가가 고가인 경우: \", np.sum(df['고가시가차이'] == 0))\n",
    "print(\"시가가 고가인 비율: \", (1 - np.sum(df['고가시가차이'] == 0) / len(df)) * 100)"
   ]
  }
 ],
 "metadata": {
  "kernelspec": {
   "display_name": "Python 3",
   "language": "python",
   "name": "python3"
  },
  "language_info": {
   "codemirror_mode": {
    "name": "ipython",
    "version": 3
   },
   "file_extension": ".py",
   "mimetype": "text/x-python",
   "name": "python",
   "nbconvert_exporter": "python",
   "pygments_lexer": "ipython3",
   "version": "3.6.8"
  }
 },
 "nbformat": 4,
 "nbformat_minor": 2
}
