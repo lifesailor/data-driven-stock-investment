{
 "cells": [
  {
   "cell_type": "code",
   "execution_count": 1,
   "metadata": {},
   "outputs": [],
   "source": [
    "import os\n",
    "import pandas as pd\n",
    "import numpy as np\n",
    "from matplotlib import pyplot as plt\n",
    "%matplotlib inline"
   ]
  },
  {
   "cell_type": "markdown",
   "metadata": {},
   "source": [
    "# 1. 추세주 정의"
   ]
  },
  {
   "cell_type": "markdown",
   "metadata": {},
   "source": [
    "추세주란 1주일 동안에 10% 이상 상승한 주를 의미한다."
   ]
  },
  {
   "cell_type": "code",
   "execution_count": 2,
   "metadata": {},
   "outputs": [],
   "source": [
    "data_path = os.path.abspath('../../data/stock/folder/일봉_20190323/')\n",
    "files = os.listdir(data_path)"
   ]
  },
  {
   "cell_type": "code",
   "execution_count": 3,
   "metadata": {},
   "outputs": [],
   "source": [
    "code_list = pd.read_csv('../../data/stock/folder/code_name_list.csv', index_col=0)"
   ]
  },
  {
   "cell_type": "code",
   "execution_count": 4,
   "metadata": {},
   "outputs": [
    {
     "data": {
      "text/plain": [
       "(2848, 2)"
      ]
     },
     "execution_count": 4,
     "metadata": {},
     "output_type": "execute_result"
    }
   ],
   "source": [
    "code_list.shape"
   ]
  },
  {
   "cell_type": "code",
   "execution_count": 5,
   "metadata": {
    "scrolled": true
   },
   "outputs": [
    {
     "name": "stdout",
     "output_type": "stream",
     "text": [
      "0 / 2424\n",
      "100 / 2424\n",
      "200 / 2424\n",
      "300 / 2424\n",
      "400 / 2424\n",
      "500 / 2424\n",
      "600 / 2424\n",
      "700 / 2424\n",
      "800 / 2424\n",
      "900 / 2424\n",
      "1000 / 2424\n",
      "1100 / 2424\n",
      "1200 / 2424\n",
      "1300 / 2424\n",
      "1400 / 2424\n",
      "1500 / 2424\n",
      "1600 / 2424\n",
      "1700 / 2424\n",
      "1800 / 2424\n",
      "1900 / 2424\n",
      "2000 / 2424\n",
      "2100 / 2424\n",
      "2200 / 2424\n",
      "2300 / 2424\n",
      "2400 / 2424\n",
      "Wall time: 3min 37s\n"
     ]
    }
   ],
   "source": [
    "%%time\n",
    "df = pd.DataFrame()\n",
    "\n",
    "for i, file in enumerate(files):\n",
    "    try:\n",
    "        new_df = pd.read_csv(os.path.join(data_path, file), engine='python', encoding='utf-8')\n",
    "        new_df['code'] = file.split('.')[0]\n",
    "        df = pd.concat((new_df, df), axis=0)\n",
    "    except:\n",
    "        pass\n",
    "\n",
    "    if i % 100 == 0:\n",
    "        print(i, '/', len(files))"
   ]
  },
  {
   "cell_type": "code",
   "execution_count": 6,
   "metadata": {},
   "outputs": [
    {
     "data": {
      "text/plain": [
       "(4277303, 7)"
      ]
     },
     "execution_count": 6,
     "metadata": {},
     "output_type": "execute_result"
    }
   ],
   "source": [
    "df.shape"
   ]
  },
  {
   "cell_type": "code",
   "execution_count": 7,
   "metadata": {},
   "outputs": [
    {
     "data": {
      "text/html": [
       "<div>\n",
       "<style scoped>\n",
       "    .dataframe tbody tr th:only-of-type {\n",
       "        vertical-align: middle;\n",
       "    }\n",
       "\n",
       "    .dataframe tbody tr th {\n",
       "        vertical-align: top;\n",
       "    }\n",
       "\n",
       "    .dataframe thead th {\n",
       "        text-align: right;\n",
       "    }\n",
       "</style>\n",
       "<table border=\"1\" class=\"dataframe\">\n",
       "  <thead>\n",
       "    <tr style=\"text-align: right;\">\n",
       "      <th></th>\n",
       "      <th>날짜</th>\n",
       "      <th>시가</th>\n",
       "      <th>고가</th>\n",
       "      <th>저가</th>\n",
       "      <th>종가</th>\n",
       "      <th>거래량</th>\n",
       "      <th>code</th>\n",
       "    </tr>\n",
       "  </thead>\n",
       "  <tbody>\n",
       "    <tr>\n",
       "      <th>0</th>\n",
       "      <td>20180406</td>\n",
       "      <td>14050</td>\n",
       "      <td>18150</td>\n",
       "      <td>13600</td>\n",
       "      <td>16300</td>\n",
       "      <td>25728117</td>\n",
       "      <td>950170</td>\n",
       "    </tr>\n",
       "    <tr>\n",
       "      <th>1</th>\n",
       "      <td>20180409</td>\n",
       "      <td>16300</td>\n",
       "      <td>18200</td>\n",
       "      <td>16250</td>\n",
       "      <td>17000</td>\n",
       "      <td>5844847</td>\n",
       "      <td>950170</td>\n",
       "    </tr>\n",
       "    <tr>\n",
       "      <th>2</th>\n",
       "      <td>20180410</td>\n",
       "      <td>16900</td>\n",
       "      <td>16900</td>\n",
       "      <td>15450</td>\n",
       "      <td>16450</td>\n",
       "      <td>2708657</td>\n",
       "      <td>950170</td>\n",
       "    </tr>\n",
       "    <tr>\n",
       "      <th>3</th>\n",
       "      <td>20180411</td>\n",
       "      <td>16800</td>\n",
       "      <td>17150</td>\n",
       "      <td>16150</td>\n",
       "      <td>16150</td>\n",
       "      <td>1500782</td>\n",
       "      <td>950170</td>\n",
       "    </tr>\n",
       "    <tr>\n",
       "      <th>4</th>\n",
       "      <td>20180412</td>\n",
       "      <td>15950</td>\n",
       "      <td>16050</td>\n",
       "      <td>15250</td>\n",
       "      <td>15300</td>\n",
       "      <td>1208193</td>\n",
       "      <td>950170</td>\n",
       "    </tr>\n",
       "  </tbody>\n",
       "</table>\n",
       "</div>"
      ],
      "text/plain": [
       "         날짜     시가     고가     저가     종가       거래량    code\n",
       "0  20180406  14050  18150  13600  16300  25728117  950170\n",
       "1  20180409  16300  18200  16250  17000   5844847  950170\n",
       "2  20180410  16900  16900  15450  16450   2708657  950170\n",
       "3  20180411  16800  17150  16150  16150   1500782  950170\n",
       "4  20180412  15950  16050  15250  15300   1208193  950170"
      ]
     },
     "execution_count": 7,
     "metadata": {},
     "output_type": "execute_result"
    }
   ],
   "source": [
    "df.head()"
   ]
  },
  {
   "cell_type": "markdown",
   "metadata": {},
   "source": [
    "# 2. 2018년 3월 4일부터 22일까지 15% 이상 상승한 종목을 찾는다."
   ]
  },
  {
   "cell_type": "code",
   "execution_count": 8,
   "metadata": {},
   "outputs": [],
   "source": [
    "codes = df['code'].unique()"
   ]
  },
  {
   "cell_type": "code",
   "execution_count": 9,
   "metadata": {},
   "outputs": [],
   "source": [
    "df['날짜'] = pd.to_datetime(df['날짜'], format='%Y%m%d') "
   ]
  },
  {
   "cell_type": "code",
   "execution_count": 10,
   "metadata": {},
   "outputs": [
    {
     "data": {
      "text/html": [
       "<div>\n",
       "<style scoped>\n",
       "    .dataframe tbody tr th:only-of-type {\n",
       "        vertical-align: middle;\n",
       "    }\n",
       "\n",
       "    .dataframe tbody tr th {\n",
       "        vertical-align: top;\n",
       "    }\n",
       "\n",
       "    .dataframe thead th {\n",
       "        text-align: right;\n",
       "    }\n",
       "</style>\n",
       "<table border=\"1\" class=\"dataframe\">\n",
       "  <thead>\n",
       "    <tr style=\"text-align: right;\">\n",
       "      <th></th>\n",
       "      <th>날짜</th>\n",
       "      <th>시가</th>\n",
       "      <th>고가</th>\n",
       "      <th>저가</th>\n",
       "      <th>종가</th>\n",
       "      <th>거래량</th>\n",
       "      <th>code</th>\n",
       "    </tr>\n",
       "  </thead>\n",
       "  <tbody>\n",
       "    <tr>\n",
       "      <th>0</th>\n",
       "      <td>2018-04-06</td>\n",
       "      <td>14050</td>\n",
       "      <td>18150</td>\n",
       "      <td>13600</td>\n",
       "      <td>16300</td>\n",
       "      <td>25728117</td>\n",
       "      <td>950170</td>\n",
       "    </tr>\n",
       "    <tr>\n",
       "      <th>1</th>\n",
       "      <td>2018-04-09</td>\n",
       "      <td>16300</td>\n",
       "      <td>18200</td>\n",
       "      <td>16250</td>\n",
       "      <td>17000</td>\n",
       "      <td>5844847</td>\n",
       "      <td>950170</td>\n",
       "    </tr>\n",
       "    <tr>\n",
       "      <th>2</th>\n",
       "      <td>2018-04-10</td>\n",
       "      <td>16900</td>\n",
       "      <td>16900</td>\n",
       "      <td>15450</td>\n",
       "      <td>16450</td>\n",
       "      <td>2708657</td>\n",
       "      <td>950170</td>\n",
       "    </tr>\n",
       "    <tr>\n",
       "      <th>3</th>\n",
       "      <td>2018-04-11</td>\n",
       "      <td>16800</td>\n",
       "      <td>17150</td>\n",
       "      <td>16150</td>\n",
       "      <td>16150</td>\n",
       "      <td>1500782</td>\n",
       "      <td>950170</td>\n",
       "    </tr>\n",
       "    <tr>\n",
       "      <th>4</th>\n",
       "      <td>2018-04-12</td>\n",
       "      <td>15950</td>\n",
       "      <td>16050</td>\n",
       "      <td>15250</td>\n",
       "      <td>15300</td>\n",
       "      <td>1208193</td>\n",
       "      <td>950170</td>\n",
       "    </tr>\n",
       "  </tbody>\n",
       "</table>\n",
       "</div>"
      ],
      "text/plain": [
       "          날짜     시가     고가     저가     종가       거래량    code\n",
       "0 2018-04-06  14050  18150  13600  16300  25728117  950170\n",
       "1 2018-04-09  16300  18200  16250  17000   5844847  950170\n",
       "2 2018-04-10  16900  16900  15450  16450   2708657  950170\n",
       "3 2018-04-11  16800  17150  16150  16150   1500782  950170\n",
       "4 2018-04-12  15950  16050  15250  15300   1208193  950170"
      ]
     },
     "execution_count": 10,
     "metadata": {},
     "output_type": "execute_result"
    }
   ],
   "source": [
    "df.head()"
   ]
  },
  {
   "cell_type": "code",
   "execution_count": 11,
   "metadata": {},
   "outputs": [],
   "source": [
    "df = pd.merge(df, code_list, on='code', how='left')"
   ]
  },
  {
   "cell_type": "code",
   "execution_count": 12,
   "metadata": {},
   "outputs": [],
   "source": [
    "standard_day = pd.to_datetime('20190301', format='%Y%m%d')"
   ]
  },
  {
   "cell_type": "code",
   "execution_count": 41,
   "metadata": {},
   "outputs": [
    {
     "name": "stdout",
     "output_type": "stream",
     "text": [
      "0 / 2422\n",
      "100 / 2422\n",
      "200 / 2422\n",
      "300 / 2422\n",
      "400 / 2422\n",
      "500 / 2422\n",
      "600 / 2422\n",
      "700 / 2422\n",
      "800 / 2422\n",
      "900 / 2422\n",
      "1000 / 2422\n",
      "1100 / 2422\n",
      "1200 / 2422\n",
      "1300 / 2422\n",
      "1400 / 2422\n",
      "1500 / 2422\n",
      "1600 / 2422\n",
      "1700 / 2422\n",
      "1800 / 2422\n",
      "1900 / 2422\n",
      "2000 / 2422\n",
      "2100 / 2422\n",
      "2200 / 2422\n",
      "2300 / 2422\n",
      "2400 / 2422\n"
     ]
    }
   ],
   "source": [
    "trend_codes = []\n",
    "trend_ratio = []\n",
    "\n",
    "for i, code in enumerate(codes):\n",
    "    df_code = df[df['code'] == code]\n",
    "    df_code = df_code[df_code['날짜'] >= standard_day]\n",
    "    first_price = df_code['종가'].iloc[0]\n",
    "    final_price = df_code['종가'].iloc[-1]\n",
    "    \n",
    "    trend_codes.append(code)\n",
    "    trend_ratio.append(final_price / first_price)\n",
    "        \n",
    "    if i % 100 == 0:\n",
    "        print(i, \"/\", len(codes))"
   ]
  },
  {
   "cell_type": "code",
   "execution_count": 45,
   "metadata": {},
   "outputs": [],
   "source": [
    "trend_df = pd.DataFrame({'code': trend_codes, 'ratio': trend_ratio})"
   ]
  },
  {
   "cell_type": "code",
   "execution_count": 46,
   "metadata": {},
   "outputs": [],
   "source": [
    "trend_code_df = pd.merge(trend_df, code_list, on='code')"
   ]
  },
  {
   "cell_type": "code",
   "execution_count": 99,
   "metadata": {},
   "outputs": [],
   "source": [
    "trend_code_df.sort_values('ratio', ascending=False, inplace=True)"
   ]
  },
  {
   "cell_type": "code",
   "execution_count": 100,
   "metadata": {},
   "outputs": [],
   "source": [
    "trend_code_df.to_csv('3week-trend.csv', index=False)"
   ]
  },
  {
   "cell_type": "markdown",
   "metadata": {},
   "source": [
    "# 2-2. 3월 18일부터 3월 22일까지 상승한 종목을 찾는다."
   ]
  },
  {
   "cell_type": "code",
   "execution_count": 58,
   "metadata": {},
   "outputs": [],
   "source": [
    "standard_day2 = pd.to_datetime('20190317', format='%Y%m%d')"
   ]
  },
  {
   "cell_type": "code",
   "execution_count": 59,
   "metadata": {
    "scrolled": true
   },
   "outputs": [
    {
     "name": "stdout",
     "output_type": "stream",
     "text": [
      "0 / 2422\n",
      "100 / 2422\n",
      "200 / 2422\n",
      "300 / 2422\n",
      "400 / 2422\n",
      "500 / 2422\n",
      "600 / 2422\n",
      "700 / 2422\n",
      "800 / 2422\n",
      "900 / 2422\n",
      "1000 / 2422\n",
      "1100 / 2422\n",
      "1200 / 2422\n",
      "1300 / 2422\n",
      "1400 / 2422\n",
      "1500 / 2422\n",
      "1600 / 2422\n",
      "1700 / 2422\n",
      "1800 / 2422\n",
      "1900 / 2422\n",
      "2000 / 2422\n",
      "2100 / 2422\n",
      "2200 / 2422\n",
      "2300 / 2422\n",
      "2400 / 2422\n"
     ]
    }
   ],
   "source": [
    "trend_codes2 = []\n",
    "trend_ratio2 = []\n",
    "\n",
    "for i, code in enumerate(codes):\n",
    "    df_code = df[df['code'] == code]\n",
    "    df_code = df_code[df_code['날짜'] >= standard_day2]\n",
    "    first_price = df_code['종가'].iloc[0]\n",
    "    final_price = df_code['종가'].iloc[-1]\n",
    "    \n",
    "    trend_codes2.append(code)\n",
    "    trend_ratio2.append(final_price / first_price)\n",
    "        \n",
    "    if i % 100 == 0:\n",
    "        print(i, \"/\", len(codes))"
   ]
  },
  {
   "cell_type": "code",
   "execution_count": 60,
   "metadata": {},
   "outputs": [],
   "source": [
    "trend_df2 = pd.DataFrame({'code': trend_codes2, 'ratio': trend_ratio2})"
   ]
  },
  {
   "cell_type": "code",
   "execution_count": 61,
   "metadata": {},
   "outputs": [],
   "source": [
    "trend_code_df2 = pd.merge(trend_df2, code_list, on='code')"
   ]
  },
  {
   "cell_type": "code",
   "execution_count": 97,
   "metadata": {},
   "outputs": [],
   "source": [
    "trend_code_df2.sort_values('ratio', ascending=False, inplace=True)"
   ]
  },
  {
   "cell_type": "code",
   "execution_count": 98,
   "metadata": {},
   "outputs": [],
   "source": [
    "trend_code_df2.to_csv('1week-trend.csv', index=False)"
   ]
  },
  {
   "cell_type": "markdown",
   "metadata": {},
   "source": [
    "### 1, 3주 안에 모두 100위 안에 들어간 종목"
   ]
  },
  {
   "cell_type": "code",
   "execution_count": 80,
   "metadata": {},
   "outputs": [],
   "source": [
    "trend_code_df = trend_code_df.sort_values('ratio', ascending=False)\n",
    "trend_code_df2 = trend_code_df2.sort_values('ratio', ascending=False)"
   ]
  },
  {
   "cell_type": "code",
   "execution_count": 86,
   "metadata": {
    "scrolled": true
   },
   "outputs": [],
   "source": [
    "best_trend_df = trend_code_df2.iloc[:100][trend_code_df2.iloc[:100]['code'].isin(trend_code_df[:100]['code'].values)]"
   ]
  },
  {
   "cell_type": "code",
   "execution_count": 95,
   "metadata": {},
   "outputs": [],
   "source": [
    "best_trend_df.to_excel('best_trend_df.xlsx', index=False)"
   ]
  },
  {
   "cell_type": "markdown",
   "metadata": {},
   "source": [
    "### 1주 안에 들지만 3주 안에 들지 못한 종목"
   ]
  },
  {
   "cell_type": "code",
   "execution_count": 90,
   "metadata": {},
   "outputs": [],
   "source": [
    "second_trend_df = trend_code_df2.iloc[:100][~trend_code_df2.iloc[:100]['code'].isin(trend_code_df[:100]['code'].values)]"
   ]
  },
  {
   "cell_type": "code",
   "execution_count": 96,
   "metadata": {},
   "outputs": [],
   "source": [
    "second_trend_df.to_excel('second_trend_df.xlsx', index=False)"
   ]
  },
  {
   "cell_type": "markdown",
   "metadata": {},
   "source": [
    "# 3. 추세주 중에서 재무가 탄탄한 종목만 선택\n",
    "\n",
    "재무가 탄탄한 종목 선정\n",
    "\n",
    "- PER: 20이하\n",
    "- PBR: 1.5이하"
   ]
  },
  {
   "cell_type": "code",
   "execution_count": null,
   "metadata": {},
   "outputs": [],
   "source": []
  }
 ],
 "metadata": {
  "kernelspec": {
   "display_name": "Python 3",
   "language": "python",
   "name": "python3"
  },
  "language_info": {
   "codemirror_mode": {
    "name": "ipython",
    "version": 3
   },
   "file_extension": ".py",
   "mimetype": "text/x-python",
   "name": "python",
   "nbconvert_exporter": "python",
   "pygments_lexer": "ipython3",
   "version": "3.6.5"
  }
 },
 "nbformat": 4,
 "nbformat_minor": 2
}
