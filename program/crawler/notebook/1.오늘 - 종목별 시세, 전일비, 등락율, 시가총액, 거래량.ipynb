{
 "cells": [
  {
   "cell_type": "markdown",
   "metadata": {},
   "source": [
    "# 1. Library"
   ]
  },
  {
   "cell_type": "code",
   "execution_count": 1,
   "metadata": {},
   "outputs": [],
   "source": [
    "import pandas as pd\n",
    "import numpy as np"
   ]
  },
  {
   "cell_type": "code",
   "execution_count": 2,
   "metadata": {},
   "outputs": [],
   "source": [
    "import requests\n",
    "import pickle"
   ]
  },
  {
   "cell_type": "code",
   "execution_count": 3,
   "metadata": {},
   "outputs": [],
   "source": [
    "def make_url(sosok=0, page_size=10, page=1):\n",
    "    return \"http://m.stock.naver.com/api/json/sise/siseListJson.nhn?\\menu=market_sum&sosok=\"+str(sosok)+\"&pageSize=\"+str(page_size)+\"&page=\"+str(page)"
   ]
  },
  {
   "cell_type": "code",
   "execution_count": 4,
   "metadata": {},
   "outputs": [],
   "source": [
    "def get_data(url):\n",
    "    \"\"\"\n",
    "    URL을 받으면 json으로 데이터를 가져와서 pandas dataframe 로 만들어주는 함수\n",
    "    \"\"\"\n",
    "    response = requests.get(url)   # response라는 obj. 안에 결과 데이터를 받아옴\n",
    "    json_info = response.json()    # json함수: 문자열 데이터를 json 형태로 parsing\n",
    "    companies = json_info[\"result\"][\"itemList\"]\n",
    "    df = pd.DataFrame(columns = [\"종목\",\"시세\",\"전일비\",\"등락율\",\"시가총액\",\"거래량\"])\n",
    "    for company in companies:\n",
    "        df.loc[len(df)] = {\n",
    "            \"종목\":company[\"nm\"],\n",
    "            \"시세\":company[\"nv\"],\n",
    "            \"전일비\":company[\"cv\"],\n",
    "            \"등락율\":company[\"cr\"],\n",
    "            \"시가총액\":company[\"mks\"],\n",
    "            \"거래량\":company[\"aq\"]\n",
    "        }\n",
    "    return df"
   ]
  },
  {
   "cell_type": "markdown",
   "metadata": {},
   "source": [
    "# 2. Crawling"
   ]
  },
  {
   "cell_type": "code",
   "execution_count": 5,
   "metadata": {},
   "outputs": [
    {
     "data": {
      "text/html": [
       "<div>\n",
       "<style scoped>\n",
       "    .dataframe tbody tr th:only-of-type {\n",
       "        vertical-align: middle;\n",
       "    }\n",
       "\n",
       "    .dataframe tbody tr th {\n",
       "        vertical-align: top;\n",
       "    }\n",
       "\n",
       "    .dataframe thead th {\n",
       "        text-align: right;\n",
       "    }\n",
       "</style>\n",
       "<table border=\"1\" class=\"dataframe\">\n",
       "  <thead>\n",
       "    <tr style=\"text-align: right;\">\n",
       "      <th></th>\n",
       "      <th>종목</th>\n",
       "      <th>시세</th>\n",
       "      <th>전일비</th>\n",
       "      <th>등락율</th>\n",
       "      <th>시가총액</th>\n",
       "      <th>거래량</th>\n",
       "    </tr>\n",
       "  </thead>\n",
       "  <tbody>\n",
       "    <tr>\n",
       "      <th>1519</th>\n",
       "      <td>유유제약2우B</td>\n",
       "      <td>18200</td>\n",
       "      <td>-350</td>\n",
       "      <td>-1.89</td>\n",
       "      <td>30</td>\n",
       "      <td>1193</td>\n",
       "    </tr>\n",
       "    <tr>\n",
       "      <th>1520</th>\n",
       "      <td>KODEX WTI원유선물인버스(H)</td>\n",
       "      <td>14210</td>\n",
       "      <td>-225</td>\n",
       "      <td>-1.56</td>\n",
       "      <td>28</td>\n",
       "      <td>1682</td>\n",
       "    </tr>\n",
       "    <tr>\n",
       "      <th>1521</th>\n",
       "      <td>동양3우B</td>\n",
       "      <td>30450</td>\n",
       "      <td>-1000</td>\n",
       "      <td>-3.18</td>\n",
       "      <td>27</td>\n",
       "      <td>2489</td>\n",
       "    </tr>\n",
       "    <tr>\n",
       "      <th>1522</th>\n",
       "      <td>ARIRANG 심천차이넥스트(합성)</td>\n",
       "      <td>6665</td>\n",
       "      <td>20</td>\n",
       "      <td>0.30</td>\n",
       "      <td>20</td>\n",
       "      <td>108</td>\n",
       "    </tr>\n",
       "    <tr>\n",
       "      <th>1523</th>\n",
       "      <td>파워 단기채</td>\n",
       "      <td>105350</td>\n",
       "      <td>5</td>\n",
       "      <td>0.00</td>\n",
       "      <td>13</td>\n",
       "      <td>400</td>\n",
       "    </tr>\n",
       "  </tbody>\n",
       "</table>\n",
       "</div>"
      ],
      "text/plain": [
       "                       종목      시세    전일비   등락율 시가총액   거래량\n",
       "1519              유유제약2우B   18200   -350 -1.89   30  1193\n",
       "1520  KODEX WTI원유선물인버스(H)   14210   -225 -1.56   28  1682\n",
       "1521                동양3우B   30450  -1000 -3.18   27  2489\n",
       "1522  ARIRANG 심천차이넥스트(합성)    6665     20  0.30   20   108\n",
       "1523               파워 단기채  105350      5  0.00   13   400"
      ]
     },
     "execution_count": 5,
     "metadata": {},
     "output_type": "execute_result"
    }
   ],
   "source": [
    "url = make_url(0, 10000, 1)\n",
    "df = get_data(url)\n",
    "df.tail()"
   ]
  },
  {
   "cell_type": "code",
   "execution_count": 6,
   "metadata": {},
   "outputs": [
    {
     "data": {
      "text/html": [
       "<div>\n",
       "<style scoped>\n",
       "    .dataframe tbody tr th:only-of-type {\n",
       "        vertical-align: middle;\n",
       "    }\n",
       "\n",
       "    .dataframe tbody tr th {\n",
       "        vertical-align: top;\n",
       "    }\n",
       "\n",
       "    .dataframe thead th {\n",
       "        text-align: right;\n",
       "    }\n",
       "</style>\n",
       "<table border=\"1\" class=\"dataframe\">\n",
       "  <thead>\n",
       "    <tr style=\"text-align: right;\">\n",
       "      <th></th>\n",
       "      <th>종목</th>\n",
       "      <th>시세</th>\n",
       "      <th>전일비</th>\n",
       "      <th>등락율</th>\n",
       "      <th>시가총액</th>\n",
       "      <th>거래량</th>\n",
       "    </tr>\n",
       "  </thead>\n",
       "  <tbody>\n",
       "    <tr>\n",
       "      <th>1323</th>\n",
       "      <td>한화에이스스팩3호</td>\n",
       "      <td>2070</td>\n",
       "      <td>-15</td>\n",
       "      <td>-0.72</td>\n",
       "      <td>64</td>\n",
       "      <td>7440</td>\n",
       "    </tr>\n",
       "    <tr>\n",
       "      <th>1324</th>\n",
       "      <td>미래에셋대우스팩2호</td>\n",
       "      <td>2090</td>\n",
       "      <td>0</td>\n",
       "      <td>0.00</td>\n",
       "      <td>64</td>\n",
       "      <td>3942</td>\n",
       "    </tr>\n",
       "    <tr>\n",
       "      <th>1325</th>\n",
       "      <td>에프티이앤이</td>\n",
       "      <td>87</td>\n",
       "      <td>0</td>\n",
       "      <td>0.00</td>\n",
       "      <td>59</td>\n",
       "      <td>0</td>\n",
       "    </tr>\n",
       "    <tr>\n",
       "      <th>1326</th>\n",
       "      <td>소프트센우</td>\n",
       "      <td>23150</td>\n",
       "      <td>350</td>\n",
       "      <td>1.54</td>\n",
       "      <td>33</td>\n",
       "      <td>1254</td>\n",
       "    </tr>\n",
       "    <tr>\n",
       "      <th>1327</th>\n",
       "      <td>모다</td>\n",
       "      <td>155</td>\n",
       "      <td>0</td>\n",
       "      <td>0.00</td>\n",
       "      <td>33</td>\n",
       "      <td>0</td>\n",
       "    </tr>\n",
       "  </tbody>\n",
       "</table>\n",
       "</div>"
      ],
      "text/plain": [
       "              종목     시세  전일비   등락율 시가총액   거래량\n",
       "1323   한화에이스스팩3호   2070  -15 -0.72   64  7440\n",
       "1324  미래에셋대우스팩2호   2090    0  0.00   64  3942\n",
       "1325      에프티이앤이     87    0  0.00   59     0\n",
       "1326       소프트센우  23150  350  1.54   33  1254\n",
       "1327          모다    155    0  0.00   33     0"
      ]
     },
     "execution_count": 6,
     "metadata": {},
     "output_type": "execute_result"
    }
   ],
   "source": [
    "url = make_url(1, 10000, 1)\n",
    "df2 = get_data(url)\n",
    "df2.tail()"
   ]
  },
  {
   "cell_type": "code",
   "execution_count": 7,
   "metadata": {},
   "outputs": [
    {
     "data": {
      "text/html": [
       "<div>\n",
       "<style scoped>\n",
       "    .dataframe tbody tr th:only-of-type {\n",
       "        vertical-align: middle;\n",
       "    }\n",
       "\n",
       "    .dataframe tbody tr th {\n",
       "        vertical-align: top;\n",
       "    }\n",
       "\n",
       "    .dataframe thead th {\n",
       "        text-align: right;\n",
       "    }\n",
       "</style>\n",
       "<table border=\"1\" class=\"dataframe\">\n",
       "  <thead>\n",
       "    <tr style=\"text-align: right;\">\n",
       "      <th></th>\n",
       "      <th>종목</th>\n",
       "      <th>시세</th>\n",
       "      <th>전일비</th>\n",
       "      <th>등락율</th>\n",
       "      <th>시가총액</th>\n",
       "      <th>거래량</th>\n",
       "    </tr>\n",
       "  </thead>\n",
       "  <tbody>\n",
       "    <tr>\n",
       "      <th>95</th>\n",
       "      <td>GS리테일</td>\n",
       "      <td>38700</td>\n",
       "      <td>300</td>\n",
       "      <td>0.78</td>\n",
       "      <td>29799</td>\n",
       "      <td>257793</td>\n",
       "    </tr>\n",
       "    <tr>\n",
       "      <th>96</th>\n",
       "      <td>현대차2우B</td>\n",
       "      <td>80400</td>\n",
       "      <td>-1300</td>\n",
       "      <td>-1.59</td>\n",
       "      <td>29334</td>\n",
       "      <td>158351</td>\n",
       "    </tr>\n",
       "    <tr>\n",
       "      <th>97</th>\n",
       "      <td>오렌지라이프</td>\n",
       "      <td>35700</td>\n",
       "      <td>300</td>\n",
       "      <td>0.85</td>\n",
       "      <td>29274</td>\n",
       "      <td>241504</td>\n",
       "    </tr>\n",
       "    <tr>\n",
       "      <th>98</th>\n",
       "      <td>금호석유</td>\n",
       "      <td>95700</td>\n",
       "      <td>-2600</td>\n",
       "      <td>-2.64</td>\n",
       "      <td>29158</td>\n",
       "      <td>141579</td>\n",
       "    </tr>\n",
       "    <tr>\n",
       "      <th>99</th>\n",
       "      <td>제일기획</td>\n",
       "      <td>25050</td>\n",
       "      <td>50</td>\n",
       "      <td>0.20</td>\n",
       "      <td>28818</td>\n",
       "      <td>330995</td>\n",
       "    </tr>\n",
       "  </tbody>\n",
       "</table>\n",
       "</div>"
      ],
      "text/plain": [
       "        종목     시세    전일비   등락율   시가총액     거래량\n",
       "95   GS리테일  38700    300  0.78  29799  257793\n",
       "96  현대차2우B  80400  -1300 -1.59  29334  158351\n",
       "97  오렌지라이프  35700    300  0.85  29274  241504\n",
       "98    금호석유  95700  -2600 -2.64  29158  141579\n",
       "99    제일기획  25050     50  0.20  28818  330995"
      ]
     },
     "execution_count": 7,
     "metadata": {},
     "output_type": "execute_result"
    }
   ],
   "source": [
    "url = make_url(2, 10000, 1)\n",
    "df3 = get_data(url)\n",
    "df3.tail()"
   ]
  },
  {
   "cell_type": "code",
   "execution_count": 8,
   "metadata": {},
   "outputs": [],
   "source": [
    "df = pd.concat([df, df2, df3], axis=0)"
   ]
  },
  {
   "cell_type": "code",
   "execution_count": 9,
   "metadata": {},
   "outputs": [],
   "source": [
    "df.reset_index(inplace=True, drop=False)"
   ]
  },
  {
   "cell_type": "code",
   "execution_count": 10,
   "metadata": {},
   "outputs": [],
   "source": [
    "del df['index']"
   ]
  },
  {
   "cell_type": "code",
   "execution_count": 11,
   "metadata": {},
   "outputs": [
    {
     "data": {
      "text/html": [
       "<div>\n",
       "<style scoped>\n",
       "    .dataframe tbody tr th:only-of-type {\n",
       "        vertical-align: middle;\n",
       "    }\n",
       "\n",
       "    .dataframe tbody tr th {\n",
       "        vertical-align: top;\n",
       "    }\n",
       "\n",
       "    .dataframe thead th {\n",
       "        text-align: right;\n",
       "    }\n",
       "</style>\n",
       "<table border=\"1\" class=\"dataframe\">\n",
       "  <thead>\n",
       "    <tr style=\"text-align: right;\">\n",
       "      <th></th>\n",
       "      <th>종목</th>\n",
       "      <th>시세</th>\n",
       "      <th>전일비</th>\n",
       "      <th>등락율</th>\n",
       "      <th>시가총액</th>\n",
       "      <th>거래량</th>\n",
       "    </tr>\n",
       "  </thead>\n",
       "  <tbody>\n",
       "    <tr>\n",
       "      <th>2947</th>\n",
       "      <td>GS리테일</td>\n",
       "      <td>38700</td>\n",
       "      <td>300</td>\n",
       "      <td>0.78</td>\n",
       "      <td>29799</td>\n",
       "      <td>257793</td>\n",
       "    </tr>\n",
       "    <tr>\n",
       "      <th>2948</th>\n",
       "      <td>현대차2우B</td>\n",
       "      <td>80400</td>\n",
       "      <td>-1300</td>\n",
       "      <td>-1.59</td>\n",
       "      <td>29334</td>\n",
       "      <td>158351</td>\n",
       "    </tr>\n",
       "    <tr>\n",
       "      <th>2949</th>\n",
       "      <td>오렌지라이프</td>\n",
       "      <td>35700</td>\n",
       "      <td>300</td>\n",
       "      <td>0.85</td>\n",
       "      <td>29274</td>\n",
       "      <td>241504</td>\n",
       "    </tr>\n",
       "    <tr>\n",
       "      <th>2950</th>\n",
       "      <td>금호석유</td>\n",
       "      <td>95700</td>\n",
       "      <td>-2600</td>\n",
       "      <td>-2.64</td>\n",
       "      <td>29158</td>\n",
       "      <td>141579</td>\n",
       "    </tr>\n",
       "    <tr>\n",
       "      <th>2951</th>\n",
       "      <td>제일기획</td>\n",
       "      <td>25050</td>\n",
       "      <td>50</td>\n",
       "      <td>0.20</td>\n",
       "      <td>28818</td>\n",
       "      <td>330995</td>\n",
       "    </tr>\n",
       "  </tbody>\n",
       "</table>\n",
       "</div>"
      ],
      "text/plain": [
       "          종목     시세    전일비   등락율   시가총액     거래량\n",
       "2947   GS리테일  38700    300  0.78  29799  257793\n",
       "2948  현대차2우B  80400  -1300 -1.59  29334  158351\n",
       "2949  오렌지라이프  35700    300  0.85  29274  241504\n",
       "2950    금호석유  95700  -2600 -2.64  29158  141579\n",
       "2951    제일기획  25050     50  0.20  28818  330995"
      ]
     },
     "execution_count": 11,
     "metadata": {},
     "output_type": "execute_result"
    }
   ],
   "source": [
    "df.tail()"
   ]
  },
  {
   "cell_type": "markdown",
   "metadata": {},
   "source": [
    "## 3. Data Exploration"
   ]
  },
  {
   "cell_type": "code",
   "execution_count": 12,
   "metadata": {},
   "outputs": [],
   "source": [
    "df = df.sort_values('거래량', ascending=False)"
   ]
  },
  {
   "cell_type": "markdown",
   "metadata": {},
   "source": [
    "### 가장 거래가 많은 주식"
   ]
  },
  {
   "cell_type": "code",
   "execution_count": 13,
   "metadata": {},
   "outputs": [],
   "source": [
    "df.drop_duplicates(inplace=True, subset='종목')"
   ]
  },
  {
   "cell_type": "code",
   "execution_count": 14,
   "metadata": {},
   "outputs": [],
   "source": [
    "df.reset_index(inplace=True, drop=True)"
   ]
  },
  {
   "cell_type": "code",
   "execution_count": 17,
   "metadata": {},
   "outputs": [
    {
     "data": {
      "text/html": [
       "<div>\n",
       "<style scoped>\n",
       "    .dataframe tbody tr th:only-of-type {\n",
       "        vertical-align: middle;\n",
       "    }\n",
       "\n",
       "    .dataframe tbody tr th {\n",
       "        vertical-align: top;\n",
       "    }\n",
       "\n",
       "    .dataframe thead th {\n",
       "        text-align: right;\n",
       "    }\n",
       "</style>\n",
       "<table border=\"1\" class=\"dataframe\">\n",
       "  <thead>\n",
       "    <tr style=\"text-align: right;\">\n",
       "      <th></th>\n",
       "      <th>종목</th>\n",
       "      <th>시세</th>\n",
       "      <th>전일비</th>\n",
       "      <th>등락율</th>\n",
       "      <th>시가총액</th>\n",
       "      <th>거래량</th>\n",
       "    </tr>\n",
       "  </thead>\n",
       "  <tbody>\n",
       "    <tr>\n",
       "      <th>0</th>\n",
       "      <td>한창</td>\n",
       "      <td>3200</td>\n",
       "      <td>-940</td>\n",
       "      <td>-22.71</td>\n",
       "      <td>1113</td>\n",
       "      <td>66722981</td>\n",
       "    </tr>\n",
       "    <tr>\n",
       "      <th>1</th>\n",
       "      <td>코디엠</td>\n",
       "      <td>969</td>\n",
       "      <td>-66</td>\n",
       "      <td>-6.38</td>\n",
       "      <td>1372</td>\n",
       "      <td>42275554</td>\n",
       "    </tr>\n",
       "    <tr>\n",
       "      <th>2</th>\n",
       "      <td>토박스코리아</td>\n",
       "      <td>1495</td>\n",
       "      <td>-75</td>\n",
       "      <td>-4.78</td>\n",
       "      <td>588</td>\n",
       "      <td>36240372</td>\n",
       "    </tr>\n",
       "    <tr>\n",
       "      <th>3</th>\n",
       "      <td>SDN</td>\n",
       "      <td>1700</td>\n",
       "      <td>-165</td>\n",
       "      <td>-8.85</td>\n",
       "      <td>709</td>\n",
       "      <td>34979556</td>\n",
       "    </tr>\n",
       "    <tr>\n",
       "      <th>4</th>\n",
       "      <td>팬스타엔터프라이즈</td>\n",
       "      <td>1090</td>\n",
       "      <td>-335</td>\n",
       "      <td>-23.51</td>\n",
       "      <td>484</td>\n",
       "      <td>34745395</td>\n",
       "    </tr>\n",
       "  </tbody>\n",
       "</table>\n",
       "</div>"
      ],
      "text/plain": [
       "          종목    시세   전일비    등락율  시가총액       거래량\n",
       "0         한창  3200  -940 -22.71  1113  66722981\n",
       "1        코디엠   969   -66  -6.38  1372  42275554\n",
       "2     토박스코리아  1495   -75  -4.78   588  36240372\n",
       "3        SDN  1700  -165  -8.85   709  34979556\n",
       "4  팬스타엔터프라이즈  1090  -335 -23.51   484  34745395"
      ]
     },
     "execution_count": 17,
     "metadata": {},
     "output_type": "execute_result"
    }
   ],
   "source": [
    "df.head()"
   ]
  }
 ],
 "metadata": {
  "kernelspec": {
   "display_name": "Python 3",
   "language": "python",
   "name": "python3"
  },
  "language_info": {
   "codemirror_mode": {
    "name": "ipython",
    "version": 3
   },
   "file_extension": ".py",
   "mimetype": "text/x-python",
   "name": "python",
   "nbconvert_exporter": "python",
   "pygments_lexer": "ipython3",
   "version": "3.6.8"
  }
 },
 "nbformat": 4,
 "nbformat_minor": 2
}
