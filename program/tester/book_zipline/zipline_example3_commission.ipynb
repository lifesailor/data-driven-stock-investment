{
 "cells": [
  {
   "cell_type": "code",
   "execution_count": 1,
   "metadata": {},
   "outputs": [],
   "source": [
    "import pandas_datareader.data as web\n",
    "import datetime\n",
    "from zipline.api import order_target, record, symbol\n",
    "from zipline.algorithm import TradingAlgorithm\n",
    "import matplotlib.pyplot as plt"
   ]
  },
  {
   "cell_type": "code",
   "execution_count": 2,
   "metadata": {},
   "outputs": [],
   "source": [
    "from zipline.api import set_commission, commission"
   ]
  },
  {
   "cell_type": "markdown",
   "metadata": {},
   "source": [
    "# 1. Data"
   ]
  },
  {
   "cell_type": "code",
   "execution_count": 31,
   "metadata": {},
   "outputs": [],
   "source": [
    "start = datetime.datetime(2019, 1, 1)\n",
    "end = datetime.datetime(2019, 1, 31)\n",
    "data = web.DataReader(\"078930.KS\", \"yahoo\", start, end)\n",
    "\n",
    "data = data[['Adj Close']]\n",
    "data.columns = ['GS']\n",
    "data = data.tz_localize('UTC')"
   ]
  },
  {
   "cell_type": "code",
   "execution_count": 32,
   "metadata": {},
   "outputs": [
    {
     "data": {
      "text/html": [
       "<div>\n",
       "<style scoped>\n",
       "    .dataframe tbody tr th:only-of-type {\n",
       "        vertical-align: middle;\n",
       "    }\n",
       "\n",
       "    .dataframe tbody tr th {\n",
       "        vertical-align: top;\n",
       "    }\n",
       "\n",
       "    .dataframe thead th {\n",
       "        text-align: right;\n",
       "    }\n",
       "</style>\n",
       "<table border=\"1\" class=\"dataframe\">\n",
       "  <thead>\n",
       "    <tr style=\"text-align: right;\">\n",
       "      <th></th>\n",
       "      <th>GS</th>\n",
       "    </tr>\n",
       "    <tr>\n",
       "      <th>Date</th>\n",
       "      <th></th>\n",
       "    </tr>\n",
       "  </thead>\n",
       "  <tbody>\n",
       "    <tr>\n",
       "      <th>2019-01-02 00:00:00+00:00</th>\n",
       "      <td>48500</td>\n",
       "    </tr>\n",
       "    <tr>\n",
       "      <th>2019-01-03 00:00:00+00:00</th>\n",
       "      <td>48350</td>\n",
       "    </tr>\n",
       "    <tr>\n",
       "      <th>2019-01-04 00:00:00+00:00</th>\n",
       "      <td>49250</td>\n",
       "    </tr>\n",
       "    <tr>\n",
       "      <th>2019-01-07 00:00:00+00:00</th>\n",
       "      <td>50300</td>\n",
       "    </tr>\n",
       "    <tr>\n",
       "      <th>2019-01-08 00:00:00+00:00</th>\n",
       "      <td>49900</td>\n",
       "    </tr>\n",
       "  </tbody>\n",
       "</table>\n",
       "</div>"
      ],
      "text/plain": [
       "                              GS\n",
       "Date                            \n",
       "2019-01-02 00:00:00+00:00  48500\n",
       "2019-01-03 00:00:00+00:00  48350\n",
       "2019-01-04 00:00:00+00:00  49250\n",
       "2019-01-07 00:00:00+00:00  50300\n",
       "2019-01-08 00:00:00+00:00  49900"
      ]
     },
     "execution_count": 32,
     "metadata": {},
     "output_type": "execute_result"
    }
   ],
   "source": [
    "data.head()"
   ]
  },
  {
   "cell_type": "code",
   "execution_count": 33,
   "metadata": {},
   "outputs": [],
   "source": [
    "def initialize(context):\n",
    "    context.i = 0\n",
    "    context.sym = symbol('GS')\n",
    "\n",
    "def handle_data(context, data):\n",
    "    order_target(context.sym, 1)"
   ]
  },
  {
   "cell_type": "markdown",
   "metadata": {},
   "source": [
    "# 2. Algorithm"
   ]
  },
  {
   "cell_type": "code",
   "execution_count": 34,
   "metadata": {},
   "outputs": [
    {
     "name": "stdout",
     "output_type": "stream",
     "text": [
      "                           starting_cash  ending_cash  ending_value\n",
      "2019-01-02 21:00:00+00:00     100000.000   100000.000           0.0\n",
      "2019-01-03 21:00:00+00:00     100000.000    51625.824       48350.0\n",
      "2019-01-04 21:00:00+00:00      51625.824    51625.824       49250.0\n",
      "2019-01-07 21:00:00+00:00      51625.824    51625.824       50300.0\n",
      "2019-01-08 21:00:00+00:00      51625.824    51625.824       49900.0\n",
      "2019-01-09 21:00:00+00:00      51625.824    51625.824       50500.0\n",
      "2019-01-10 21:00:00+00:00      51625.824    51625.824       51000.0\n",
      "2019-01-11 21:00:00+00:00      51625.824    51625.824       51300.0\n",
      "2019-01-14 21:00:00+00:00      51625.824    51625.824       50800.0\n",
      "2019-01-15 21:00:00+00:00      51625.824    51625.824       51400.0\n",
      "2019-01-16 21:00:00+00:00      51625.824    51625.824       51400.0\n",
      "2019-01-17 21:00:00+00:00      51625.824    51625.824       51800.0\n",
      "2019-01-18 21:00:00+00:00      51625.824    51625.824       52000.0\n",
      "2019-01-22 21:00:00+00:00      51625.824    51625.824       52100.0\n",
      "2019-01-23 21:00:00+00:00      51625.824    51625.824       52500.0\n",
      "2019-01-24 21:00:00+00:00      51625.824    51625.824       52400.0\n",
      "2019-01-25 21:00:00+00:00      51625.824    51625.824       52600.0\n",
      "2019-01-28 21:00:00+00:00      51625.824    51625.824       52400.0\n",
      "2019-01-29 21:00:00+00:00      51625.824    51625.824       53000.0\n",
      "2019-01-30 21:00:00+00:00      51625.824    51625.824       53600.0\n",
      "2019-01-31 21:00:00+00:00      51625.824    51625.824       54400.0\n",
      "2019-02-01 21:00:00+00:00      51625.824    51625.824       53900.0\n"
     ]
    },
    {
     "name": "stderr",
     "output_type": "stream",
     "text": [
      "C:\\ProgramData\\Anaconda3\\lib\\site-packages\\ipykernel_launcher.py:2: DeprecationWarning: \n",
      "Panel is deprecated and will be removed in a future version.\n",
      "The recommended way to represent these types of 3-dimensional data are with a MultiIndex on a DataFrame, via the Panel.to_frame() method\n",
      "Alternatively, you can use the xarray package http://xarray.pydata.org/en/stable/.\n",
      "Pandas provides a `.to_xarray()` method to help automate this conversion.\n",
      "\n",
      "  \n"
     ]
    }
   ],
   "source": [
    "algo = TradingAlgorithm(initialize=initialize, handle_data=handle_data)\n",
    "result = algo.run(data)\n",
    "\n",
    "print(result[['starting_cash', 'ending_cash', 'ending_value']])"
   ]
  },
  {
   "cell_type": "markdown",
   "metadata": {},
   "source": [
    "# 3. Commision"
   ]
  },
  {
   "cell_type": "code",
   "execution_count": 35,
   "metadata": {},
   "outputs": [],
   "source": [
    "from zipline.api import set_commission, commission"
   ]
  },
  {
   "cell_type": "code",
   "execution_count": 36,
   "metadata": {},
   "outputs": [],
   "source": [
    "def initialize(context):\n",
    "    context.i = 0\n",
    "    context.sym = symbol('GS')\n",
    "    set_commission(commission.PerDollar(cost=0.00165))    \n",
    "\n",
    "def handle_data(context, data):\n",
    "    order_target(context.sym, 1)\n",
    "    record(AAPL=data.current(context.sym, \"price\"))"
   ]
  },
  {
   "cell_type": "code",
   "execution_count": 38,
   "metadata": {},
   "outputs": [
    {
     "name": "stdout",
     "output_type": "stream",
     "text": [
      "                           starting_cash    ending_cash  ending_value\n",
      "2019-01-02 21:00:00+00:00  100000.000000  100000.000000           0.0\n",
      "2019-01-03 21:00:00+00:00  100000.000000   51546.007611       48350.0\n",
      "2019-01-04 21:00:00+00:00   51546.007611   51546.007611       49250.0\n",
      "2019-01-07 21:00:00+00:00   51546.007611   51546.007611       50300.0\n",
      "2019-01-08 21:00:00+00:00   51546.007611   51546.007611       49900.0\n",
      "2019-01-09 21:00:00+00:00   51546.007611   51546.007611       50500.0\n",
      "2019-01-10 21:00:00+00:00   51546.007611   51546.007611       51000.0\n",
      "2019-01-11 21:00:00+00:00   51546.007611   51546.007611       51300.0\n",
      "2019-01-14 21:00:00+00:00   51546.007611   51546.007611       50800.0\n",
      "2019-01-15 21:00:00+00:00   51546.007611   51546.007611       51400.0\n",
      "2019-01-16 21:00:00+00:00   51546.007611   51546.007611       51400.0\n",
      "2019-01-17 21:00:00+00:00   51546.007611   51546.007611       51800.0\n",
      "2019-01-18 21:00:00+00:00   51546.007611   51546.007611       52000.0\n",
      "2019-01-22 21:00:00+00:00   51546.007611   51546.007611       52100.0\n",
      "2019-01-23 21:00:00+00:00   51546.007611   51546.007611       52500.0\n",
      "2019-01-24 21:00:00+00:00   51546.007611   51546.007611       52400.0\n",
      "2019-01-25 21:00:00+00:00   51546.007611   51546.007611       52600.0\n",
      "2019-01-28 21:00:00+00:00   51546.007611   51546.007611       52400.0\n",
      "2019-01-29 21:00:00+00:00   51546.007611   51546.007611       53000.0\n",
      "2019-01-30 21:00:00+00:00   51546.007611   51546.007611       53600.0\n",
      "2019-01-31 21:00:00+00:00   51546.007611   51546.007611       54400.0\n",
      "2019-02-01 21:00:00+00:00   51546.007611   51546.007611       53900.0\n"
     ]
    },
    {
     "name": "stderr",
     "output_type": "stream",
     "text": [
      "C:\\ProgramData\\Anaconda3\\lib\\site-packages\\ipykernel_launcher.py:2: DeprecationWarning: \n",
      "Panel is deprecated and will be removed in a future version.\n",
      "The recommended way to represent these types of 3-dimensional data are with a MultiIndex on a DataFrame, via the Panel.to_frame() method\n",
      "Alternatively, you can use the xarray package http://xarray.pydata.org/en/stable/.\n",
      "Pandas provides a `.to_xarray()` method to help automate this conversion.\n",
      "\n",
      "  \n"
     ]
    }
   ],
   "source": [
    "algo = TradingAlgorithm(initialize=initialize, handle_data=handle_data)\n",
    "result = algo.run(data)\n",
    "\n",
    "print(result[['starting_cash', 'ending_cash', 'ending_value']])"
   ]
  }
 ],
 "metadata": {
  "kernelspec": {
   "display_name": "Python 3",
   "language": "python",
   "name": "python3"
  },
  "language_info": {
   "codemirror_mode": {
    "name": "ipython",
    "version": 3
   },
   "file_extension": ".py",
   "mimetype": "text/x-python",
   "name": "python",
   "nbconvert_exporter": "python",
   "pygments_lexer": "ipython3",
   "version": "3.6.5"
  }
 },
 "nbformat": 4,
 "nbformat_minor": 2
}
