{
 "cells": [
  {
   "cell_type": "code",
   "execution_count": 6,
   "metadata": {},
   "outputs": [],
   "source": [
    "import pandas_datareader.data as web\n",
    "import datetime\n",
    "from zipline.api import order, record, symbol\n",
    "from zipline.algorithm import TradingAlgorithm\n",
    "from zipline.api import set_commission, commission\n",
    "from zipline.utils.factory import create_simulation_parameters\n",
    "import matplotlib.pyplot as plt"
   ]
  },
  {
   "cell_type": "markdown",
   "metadata": {},
   "source": [
    "# 1. Data"
   ]
  },
  {
   "cell_type": "code",
   "execution_count": 7,
   "metadata": {},
   "outputs": [],
   "source": [
    "start = datetime.datetime(2016, 1, 1)\n",
    "end = datetime.datetime(2016, 1, 31)\n",
    "data = web.DataReader(\"078930.KS\", \"yahoo\", start, end)\n",
    "\n",
    "data = data[['Adj Close']]\n",
    "data.columns = ['GS']\n",
    "data = data.tz_localize('UTC')"
   ]
  },
  {
   "cell_type": "markdown",
   "metadata": {},
   "source": [
    "# 2. Zipline"
   ]
  },
  {
   "cell_type": "code",
   "execution_count": 9,
   "metadata": {},
   "outputs": [],
   "source": [
    "def initialize(context):\n",
    "    context.i = 0\n",
    "    context.sym = symbol('GS')\n",
    "    set_commission(commission.PerDollar(cost=0.00165))\n",
    "\n",
    "def handle_data(context, data):\n",
    "    #order_target(context.sym, 1)\n",
    "    order(context.sym, 1)"
   ]
  },
  {
   "cell_type": "code",
   "execution_count": 10,
   "metadata": {},
   "outputs": [
    {
     "name": "stdout",
     "output_type": "stream",
     "text": [
      "                           starting_cash   ending_cash   ending_value\n",
      "2016-01-04 21:00:00+00:00   1.000000e+08  1.000000e+08       0.000000\n",
      "2016-01-05 21:00:00+00:00   1.000000e+08  9.995489e+07   45014.136719\n",
      "2016-01-06 21:00:00+00:00   9.995489e+07  9.991160e+07   86398.101562\n",
      "2016-01-07 21:00:00+00:00   9.991160e+07  9.986890e+07  127827.445312\n",
      "2016-01-08 21:00:00+00:00   9.986890e+07  9.982397e+07  179330.515625\n",
      "2016-01-11 21:00:00+00:00   9.982397e+07  9.978004e+07  219171.660156\n",
      "2016-01-12 21:00:00+00:00   9.978004e+07  9.973520e+07  268451.250000\n",
      "2016-01-13 21:00:00+00:00   9.973520e+07  9.969023e+07  314146.054688\n",
      "2016-01-14 21:00:00+00:00   9.969023e+07  9.964571e+07  355393.875000\n",
      "2016-01-15 21:00:00+00:00   9.964571e+07  9.960205e+07  392058.632812\n",
      "2016-01-19 21:00:00+00:00   9.960205e+07  9.955889e+07  430629.218750\n",
      "2016-01-20 21:00:00+00:00   9.955889e+07  9.951597e+07  471196.386719\n",
      "2016-01-21 21:00:00+00:00   9.951597e+07  9.947245e+07  521111.250000\n",
      "2016-01-22 21:00:00+00:00   9.947245e+07  9.942806e+07  575745.320312\n",
      "2016-01-25 21:00:00+00:00   9.942806e+07  9.938345e+07  623209.835938\n",
      "2016-01-26 21:00:00+00:00   9.938345e+07  9.933893e+07  666363.515625\n",
      "2016-01-27 21:00:00+00:00   9.933893e+07  9.929496e+07  702075.312500\n",
      "2016-01-28 21:00:00+00:00   9.929496e+07  9.925012e+07  760611.875000\n",
      "2016-01-29 21:00:00+00:00   9.925012e+07  9.920428e+07  823323.164062\n",
      "2016-02-01 21:00:00+00:00   9.920428e+07  9.915772e+07  882858.007812\n"
     ]
    },
    {
     "name": "stderr",
     "output_type": "stream",
     "text": [
      "C:\\ProgramData\\Anaconda3\\lib\\site-packages\\ipykernel_launcher.py:3: DeprecationWarning: \n",
      "Panel is deprecated and will be removed in a future version.\n",
      "The recommended way to represent these types of 3-dimensional data are with a MultiIndex on a DataFrame, via the Panel.to_frame() method\n",
      "Alternatively, you can use the xarray package http://xarray.pydata.org/en/stable/.\n",
      "Pandas provides a `.to_xarray()` method to help automate this conversion.\n",
      "\n",
      "  This is separate from the ipykernel package so we can avoid doing imports until\n"
     ]
    }
   ],
   "source": [
    "algo = TradingAlgorithm(sim_params=create_simulation_parameters(\n",
    "    capital_base=100000000),initialize = initialize, handle_data = handle_data)\n",
    "result = algo.run(data)\n",
    "print(result[['starting_cash', 'ending_cash', 'ending_value']])"
   ]
  },
  {
   "cell_type": "code",
   "execution_count": 11,
   "metadata": {},
   "outputs": [
    {
     "data": {
      "text/plain": [
       "[<matplotlib.lines.Line2D at 0x104e3d30>]"
      ]
     },
     "execution_count": 11,
     "metadata": {},
     "output_type": "execute_result"
    },
    {
     "data": {
      "image/png": "[encoded data removed]",
      "text/plain": [
       "<Figure size 432x288 with 1 Axes>"
      ]
     },
     "metadata": {},
     "output_type": "display_data"
    }
   ],
   "source": [
    "plt.plot(result['portfolio_value'])"
   ]
  }
 ],
 "metadata": {
  "kernelspec": {
   "display_name": "Python 3",
   "language": "python",
   "name": "python3"
  },
  "language_info": {
   "codemirror_mode": {
    "name": "ipython",
    "version": 3
   },
   "file_extension": ".py",
   "mimetype": "text/x-python",
   "name": "python",
   "nbconvert_exporter": "python",
   "pygments_lexer": "ipython3",
   "version": "3.6.5"
  }
 },
 "nbformat": 4,
 "nbformat_minor": 2
}
